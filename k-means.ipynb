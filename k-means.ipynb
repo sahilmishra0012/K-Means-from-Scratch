{
 "cells": [
  {
   "cell_type": "code",
   "execution_count": 1,
   "metadata": {
    "ExecuteTime": {
     "end_time": "2019-08-23T10:06:25.879194Z",
     "start_time": "2019-08-23T10:06:25.081265Z"
    }
   },
   "outputs": [],
   "source": [
    "import warnings\n",
    "warnings.filterwarnings(\"ignore\")\n",
    "%matplotlib inline\n",
    "import numpy as np\n",
    "import matplotlib.pyplot as plt\n",
    "import seaborn as sns\n",
    "from sklearn import datasets"
   ]
  },
  {
   "cell_type": "code",
   "execution_count": 2,
   "metadata": {
    "ExecuteTime": {
     "end_time": "2019-08-23T10:06:26.433494Z",
     "start_time": "2019-08-23T10:06:26.274889Z"
    }
   },
   "outputs": [],
   "source": [
    "iris = datasets.load_iris()"
   ]
  },
  {
   "cell_type": "code",
   "execution_count": 3,
   "metadata": {
    "ExecuteTime": {
     "end_time": "2019-08-23T10:06:26.636606Z",
     "start_time": "2019-08-23T10:06:26.629379Z"
    }
   },
   "outputs": [],
   "source": [
    "X = iris.data[:100]\n",
    "y = iris.target[:100]"
   ]
  },
  {
   "cell_type": "code",
   "execution_count": 4,
   "metadata": {
    "ExecuteTime": {
     "end_time": "2019-08-23T10:06:27.660435Z",
     "start_time": "2019-08-23T10:06:27.646015Z"
    }
   },
   "outputs": [],
   "source": [
    "X_train=X[20:]\n",
    "y_train=y[20:]"
   ]
  },
  {
   "cell_type": "code",
   "execution_count": 5,
   "metadata": {
    "ExecuteTime": {
     "end_time": "2019-08-23T10:06:29.106251Z",
     "start_time": "2019-08-23T10:06:28.256904Z"
    }
   },
   "outputs": [],
   "source": [
    "X_test=X[:20]\n",
    "y_test=y[:20]"
   ]
  },
  {
   "cell_type": "code",
   "execution_count": 16,
   "metadata": {
    "ExecuteTime": {
     "end_time": "2019-08-23T10:10:49.848947Z",
     "start_time": "2019-08-23T10:10:49.822575Z"
    }
   },
   "outputs": [],
   "source": [
    "li=[]"
   ]
  },
  {
   "cell_type": "code",
   "execution_count": 17,
   "metadata": {
    "ExecuteTime": {
     "end_time": "2019-08-23T10:10:50.405334Z",
     "start_time": "2019-08-23T10:10:50.392307Z"
    }
   },
   "outputs": [],
   "source": [
    "for i in range(80):\n",
    "    li.append(np.sqrt(np.sum(np.square(X_test[0]-X_train[i]))))"
   ]
  },
  {
   "cell_type": "code",
   "execution_count": 20,
   "metadata": {
    "ExecuteTime": {
     "end_time": "2019-08-23T10:11:11.087939Z",
     "start_time": "2019-08-23T10:11:11.080893Z"
    }
   },
   "outputs": [],
   "source": [
    "sort_li=sorted(li)"
   ]
  },
  {
   "cell_type": "code",
   "execution_count": 21,
   "metadata": {
    "ExecuteTime": {
     "end_time": "2019-08-23T10:11:27.092117Z",
     "start_time": "2019-08-23T10:11:27.074419Z"
    }
   },
   "outputs": [
    {
     "data": {
      "text/plain": [
       "[0.14142135623730964,\n",
       " 0.14142135623730995,\n",
       " 0.14142135623730995,\n",
       " 0.17320508075688743,\n",
       " 0.22360679774997896]"
      ]
     },
     "execution_count": 21,
     "metadata": {},
     "output_type": "execute_result"
    }
   ],
   "source": [
    "sort_li[:5]"
   ]
  },
  {
   "cell_type": "code",
   "execution_count": null,
   "metadata": {},
   "outputs": [],
   "source": []
  }
 ],
 "metadata": {
  "kernelspec": {
   "display_name": "Python 3",
   "language": "python",
   "name": "python3"
  },
  "language_info": {
   "codemirror_mode": {
    "name": "ipython",
    "version": 3
   },
   "file_extension": ".py",
   "mimetype": "text/x-python",
   "name": "python",
   "nbconvert_exporter": "python",
   "pygments_lexer": "ipython3",
   "version": "3.7.3"
  },
  "toc": {
   "base_numbering": 1,
   "nav_menu": {},
   "number_sections": true,
   "sideBar": true,
   "skip_h1_title": false,
   "title_cell": "Table of Contents",
   "title_sidebar": "Contents",
   "toc_cell": false,
   "toc_position": {},
   "toc_section_display": true,
   "toc_window_display": false
  },
  "varInspector": {
   "cols": {
    "lenName": 16,
    "lenType": 16,
    "lenVar": 40
   },
   "kernels_config": {
    "python": {
     "delete_cmd_postfix": "",
     "delete_cmd_prefix": "del ",
     "library": "var_list.py",
     "varRefreshCmd": "print(var_dic_list())"
    },
    "r": {
     "delete_cmd_postfix": ") ",
     "delete_cmd_prefix": "rm(",
     "library": "var_list.r",
     "varRefreshCmd": "cat(var_dic_list()) "
    }
   },
   "types_to_exclude": [
    "module",
    "function",
    "builtin_function_or_method",
    "instance",
    "_Feature"
   ],
   "window_display": false
  }
 },
 "nbformat": 4,
 "nbformat_minor": 2
}
